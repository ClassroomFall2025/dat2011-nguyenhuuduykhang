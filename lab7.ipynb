{
 "cells": [
  {
   "cell_type": "markdown",
   "id": "fdeff819",
   "metadata": {},
   "source": [
    "# Sinh Viên thực hiện Lab 7 ở Đây"
   ]
  },
  {
   "cell_type": "markdown",
   "id": "acc5d7dc",
   "metadata": {},
   "source": [
    "## Lab 7 - Bài 1"
   ]
  },
  {
   "cell_type": "code",
   "execution_count": 74,
   "id": "001e0507",
   "metadata": {},
   "outputs": [
    {
     "name": "stdout",
     "output_type": "stream",
     "text": [
      " Tự nguyện\n",
      "Trương Quốc Khánh\n",
      "Nếu là chim, tôi sẽ là loài bồ câu trắng\n",
      "Nếu là hoa, tôi sẽ là một đóa hướng dương\n",
      "Nếu là mây, tôi sẽ là một vầng mây ấm\n",
      "Là người, tôi sẽ chết cho quê hương.\n",
      "\n",
      "Là chim, tôi sẽ cất cao đôi cánh mềm\n",
      "Từ nam ra ngoài bắc báo tin nối liền\n",
      "Là hoa, tôi nở tình yêu ban sớm\n",
      "Cùng muôn trái tim ngất ngây hoà bình.\n",
      "\n",
      "Là mây, theo làn gió tung bay khắp trời\n",
      "Nghìn xưa oai hùng đó tôi xin tiếp lời\n",
      "Là người, xin một lần khi nằm xuống\n",
      "Nhìn anh em đứng lên phất cao ngọn cờ.\n",
      "\n",
      " Tự nguyệ\n",
      "Dòng 2: Trương Quốc Khánh.\n"
     ]
    }
   ],
   "source": [
    "# # Code lab 7 bài 1 ở đây\n",
    "# # Đọc file Resource\n",
    "file = open(\"Resource.txt\", \"r\",encoding=\"utf-8\")\n",
    "noidung = file.read()\n",
    "print(noidung)\n",
    "\n",
    "file = open(\"Resource.txt\", \"r\",encoding=\"utf-8\")\n",
    "noidung = file.read(9)\n",
    "print(noidung)\n",
    "        \n",
    "\n",
    "dong_muon_in = 2\n",
    "with open(\"Resource.txt\", \"r\", encoding=\"utf-8\") as file:\n",
    "    for i, line in enumerate(file, start=1):\n",
    "        if i == dong_muon_in:\n",
    "            print(f\"Dòng {i}: {line.strip()}.\")\n",
    "            break\n",
    "\n"
   ]
  },
  {
   "cell_type": "markdown",
   "id": "c0835310",
   "metadata": {},
   "source": [
    "## Lab 7 - Bài 2"
   ]
  },
  {
   "cell_type": "code",
   "execution_count": 76,
   "id": "fa9cb39f",
   "metadata": {},
   "outputs": [
    {
     "name": "stdout",
     "output_type": "stream",
     "text": [
      " Nếu một mai tôi có bay lên trời .\n",
      " Thì người ơi tôi đã sống rất thảnh thơi .\n",
      " Nếu một mai tôi có đi qua đời .\n",
      " Thì người ơi tôi đã sống rất tuyệt vời .\n",
      "\n"
     ]
    }
   ],
   "source": [
    "# Code lab 7  bài 2 ở đây\n",
    "file = open(\"Exercise2.txt\", \"w\", encoding=\"utf-8\")\n",
    "file.write(\" Nếu một mai tôi có bay lên trời .\\n\")\n",
    "file.write(\" Thì người ơi tôi đã sống rất thảnh thơi .\\n\" )\n",
    "file.write(\" Nếu một mai tôi có đi qua đời .\\n\")\n",
    "file.write(\" Thì người ơi tôi đã sống rất tuyệt vời .\\n\")\n",
    "file.close()\n",
    "file = open(\"Exercise2.txt\", \"r\", encoding=\"utf-8\")\n",
    "noidung = file.read()\n",
    "print(noidung)"
   ]
  },
  {
   "cell_type": "markdown",
   "id": "0f2483fe",
   "metadata": {},
   "source": [
    "## Lab 7 - Bài 3"
   ]
  },
  {
   "cell_type": "code",
   "execution_count": null,
   "id": "7034990b",
   "metadata": {},
   "outputs": [],
   "source": [
    "# Code lab 7  bài 3 ở đây\n"
   ]
  },
  {
   "cell_type": "markdown",
   "id": "d36ea3d3",
   "metadata": {},
   "source": [
    "## Lab 7 - Bài 4"
   ]
  },
  {
   "cell_type": "code",
   "execution_count": null,
   "id": "4c707ec1",
   "metadata": {},
   "outputs": [],
   "source": [
    "# code lab 7 bài 4 ở đây"
   ]
  },
  {
   "cell_type": "markdown",
   "id": "e2b41d4a",
   "metadata": {},
   "source": [
    "## Lab 7 - Bài 5: bài tập làm thêm"
   ]
  },
  {
   "cell_type": "code",
   "execution_count": null,
   "id": "0e0172f7",
   "metadata": {},
   "outputs": [],
   "source": [
    "# code lab 7  bài làm thêm ở đây "
   ]
  }
 ],
 "metadata": {
  "kernelspec": {
   "display_name": "Python 3",
   "language": "python",
   "name": "python3"
  },
  "language_info": {
   "codemirror_mode": {
    "name": "ipython",
    "version": 3
   },
   "file_extension": ".py",
   "mimetype": "text/x-python",
   "name": "python",
   "nbconvert_exporter": "python",
   "pygments_lexer": "ipython3",
   "version": "3.14.0"
  }
 },
 "nbformat": 4,
 "nbformat_minor": 5
}
