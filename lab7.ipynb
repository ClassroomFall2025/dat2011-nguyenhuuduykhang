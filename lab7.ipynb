{
 "cells": [
  {
   "cell_type": "markdown",
   "id": "fdeff819",
   "metadata": {},
   "source": [
    "# Sinh Viên thực hiện Lab 7 ở Đây"
   ]
  },
  {
   "cell_type": "markdown",
   "id": "acc5d7dc",
   "metadata": {},
   "source": [
    "## Lab 7 - Bài 1"
   ]
  },
  {
   "cell_type": "code",
   "execution_count": 4,
   "id": "001e0507",
   "metadata": {},
   "outputs": [
    {
     "name": "stdout",
     "output_type": "stream",
     "text": [
      "Tự nguyện\n",
      "Trương Quốc Khánh\n",
      "Nếu là chim, tôi sẽ là loài bồ câu trắng\n",
      "Nếu là hoa, tôi sẽ là một đóa hướng dương\n",
      "Nếu là mây, tôi sẽ là một vầng mây ấm\n",
      "Là người, tôi sẽ chết cho quê hương.\n",
      "\n",
      "Là chim, tôi sẽ cất cao đôi cánh mềm\n",
      "Từ nam ra ngoài bắc báo tin nối liền\n",
      "Là hoa, tôi nở tình yêu ban sớm\n",
      "Cùng muôn trái tim ngất ngây hoà bình.\n",
      "\n",
      "Là mây, theo làn gió tung bay khắp trời\n",
      "Nghìn xưa oai hùng đó tôi xin tiếp lời\n",
      "Là người, xin một lần khi nằm xuống\n",
      "Nhìn anh em đứng lên phất cao ngọn cờ.\n",
      "Tự nguyện\n",
      "Dòng 2: Trương Quốc Khánh.\n"
     ]
    }
   ],
   "source": [
    "# # Code lab 7 bài 1 ở đây\n",
    "# # Đọc file Resource\n",
    "file = open(\"Resource.txt\", \"r\",encoding=\"utf-8\")\n",
    "noidung = file.read()\n",
    "print(noidung)\n",
    "\n",
    "file = open(\"Resource.txt\", \"r\",encoding=\"utf-8\")\n",
    "noidung = file.read(9)\n",
    "print(noidung)\n",
    "        \n",
    "\n",
    "dong_muon_in = 2\n",
    "with open(\"Resource.txt\", \"r\", encoding=\"utf-8\") as file:\n",
    "    for i, line in enumerate(file, start=1):\n",
    "        if i == dong_muon_in:\n",
    "            print(f\"Dòng {i}: {line.strip()}.\")\n",
    "            break\n",
    "\n"
   ]
  },
  {
   "cell_type": "markdown",
   "id": "c0835310",
   "metadata": {},
   "source": [
    "## Lab 7 - Bài 2"
   ]
  },
  {
   "cell_type": "code",
   "execution_count": null,
   "id": "fa9cb39f",
   "metadata": {},
   "outputs": [
    {
     "name": "stdout",
     "output_type": "stream",
     "text": [
      " Nếu một mai tôi có bay lên trời .\n",
      " Thì người ơi tôi đã sống rất thảnh thơi .\n",
      " Nếu một mai tôi có đi qua đời .\n",
      " Thì người ơi tôi đã sống rất tuyệt vời .\n",
      "\n"
     ]
    },
    {
     "ename": "",
     "evalue": "",
     "output_type": "error",
     "traceback": [
      "\u001b[1;31mThe Kernel crashed while executing code in the current cell or a previous cell. \n",
      "\u001b[1;31mPlease review the code in the cell(s) to identify a possible cause of the failure. \n",
      "\u001b[1;31mClick <a href='https://aka.ms/vscodeJupyterKernelCrash'>here</a> for more info. \n",
      "\u001b[1;31mView Jupyter <a href='command:jupyter.viewOutput'>log</a> for further details."
     ]
    }
   ],
   "source": [
    "# Code lab 7  bài 2 ở đây\n",
    "file = open(\"Exercise2.txt\", \"w\", encoding=\"utf-8\")\n",
    "file.write(\" Nếu một mai tôi có bay lên trời .\\n\")\n",
    "file.write(\" Thì người ơi tôi đã sống rất thảnh thơi .\\n\" )\n",
    "file.write(\" Nếu một mai tôi có đi qua đời .\\n\")\n",
    "file.write(\" Thì người ơi tôi đã sống rất tuyệt vời .\\n\")\n",
    "file.close()\n",
    "file = open(\"Exercise2.txt\", \"r\", encoding=\"utf-8\")\n",
    "noidung = file.read()\n",
    "print(noidung)"
   ]
  },
  {
   "cell_type": "markdown",
   "id": "0f2483fe",
   "metadata": {},
   "source": [
    "## Lab 7 - Bài 3"
   ]
  },
  {
   "cell_type": "code",
   "execution_count": 1,
   "id": "7034990b",
   "metadata": {},
   "outputs": [
    {
     "name": "stdout",
     "output_type": "stream",
     "text": [
      "\n",
      "Nhập thông tin bài thơ thứ 1:\n",
      "\n",
      "Nhập thông tin bài thơ thứ 2:\n",
      "\n",
      "Nhập thông tin bài thơ thứ 3:\n",
      "\n",
      "Nhập thông tin bài thơ thứ 4:\n",
      "\n",
      "Nhập thông tin bài thơ thứ 5:\n",
      "\n",
      " Đã ghi thông tin 5 bài thơ vào file 'baitho.csv' thành công!\n"
     ]
    }
   ],
   "source": [
    "# Code lab 7  bài 3 ở đây\n",
    "import csv\n",
    "with open(\"baitho.csv\", mode=\"w\", newline=\"\", encoding=\"utf-8\") as file:  \n",
    "    writer = csv.writer(file)\n",
    "    writer.writerow([\"Tiêu đề\", \"Tác giả\", \"Năm sáng tác\"])\n",
    "\n",
    "   \n",
    "    for i in range(5):\n",
    "        print(f\"\\nNhập thông tin bài thơ thứ {i+1}:\")\n",
    "        tieude = input(\"Tiêu đề: \")\n",
    "        tacgia = input(\"Tác giả: \")\n",
    "        namsangtac = input(\"Năm sáng tác: \")\n",
    "\n",
    "        # Ghi một dòng dữ liệu vào file CSV\n",
    "        writer.writerow([tieude, tacgia, namsangtac])\n",
    "\n",
    "print(f\"\\n Đã ghi thông tin 5 bài thơ vào file 'baitho.csv' thành công!\")\n"
   ]
  },
  {
   "cell_type": "markdown",
   "id": "d36ea3d3",
   "metadata": {},
   "source": [
    "## Lab 7 - Bài 4"
   ]
  },
  {
   "cell_type": "code",
   "execution_count": null,
   "id": "4c707ec1",
   "metadata": {},
   "outputs": [
    {
     "name": "stdout",
     "output_type": "stream",
     "text": [
      " Đã ghi file Resource.xml thành công!\n"
     ]
    }
   ],
   "source": [
    "# code lab 7 bài 4 ở đây\n",
    "# Đọc nội dung file Resource.txt và ghi ra Resource.xml theo mẫu\n",
    "\n",
    "noi_dung_moi = []    \n",
    "kho_tho = []         \n",
    "\n",
    "with open(\"Resource.txt\", \"r\", encoding=\"utf-8\") as file:\n",
    "    for dong in file:\n",
    "        dong = dong.strip()\n",
    "        if dong == \"\":\n",
    "            if kho_tho:\n",
    "                noi_dung_moi.append(kho_tho)\n",
    "                kho_tho = []\n",
    "        else:\n",
    "            kho_tho.append(dong)\n",
    "    if kho_tho:  \n",
    "        noi_dung_moi.append(kho_tho)\n",
    "        \n",
    "with open(\"Resource.xml\", \"w\", encoding=\"utf-8\") as file1:\n",
    "    file1.write(\"<songs>\\n\")\n",
    "    for bai in noi_dung_moi:\n",
    "        name = bai[0]\n",
    "        author = bai[1]\n",
    "        sections = bai[2:]\n",
    "        file1.write(\"\\t<song>\\n\")\n",
    "        file1.write(f\"\\t\\t<name>{name}</name>\\n\")\n",
    "        file1.write(f\"\\t\\t<author>{author}</author>\\n\")\n",
    "        for phan_tu in sections:\n",
    "            file1.write(f\"\\t\\t<section>{phan_tu}</section>\\n\")\n",
    "        file1.write(\"\\t</song>\\n\")\n",
    "    file1.write(\"</songs>\\n\")\n",
    "print(\" Đã ghi file Resource.xml thành công!\")\n"
   ]
  },
  {
   "cell_type": "markdown",
   "id": "e2b41d4a",
   "metadata": {},
   "source": [
    "## Lab 7 - Bài 5: bài tập làm thêm"
   ]
  },
  {
   "cell_type": "code",
   "execution_count": null,
   "id": "0e0172f7",
   "metadata": {},
   "outputs": [],
   "source": [
    "# code lab 7  bài làm thêm ở đây \n"
   ]
  }
 ],
 "metadata": {
  "kernelspec": {
   "display_name": "Python 3",
   "language": "python",
   "name": "python3"
  },
  "language_info": {
   "codemirror_mode": {
    "name": "ipython",
    "version": 3
   },
   "file_extension": ".py",
   "mimetype": "text/x-python",
   "name": "python",
   "nbconvert_exporter": "python",
   "pygments_lexer": "ipython3",
   "version": "3.14.0"
  }
 },
 "nbformat": 4,
 "nbformat_minor": 5
}
