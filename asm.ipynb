{
 "cells": [
  {
   "cell_type": "code",
   "execution_count": 13,
   "id": "a62fe686",
   "metadata": {},
   "outputs": [
    {
     "name": "stdout",
     "output_type": "stream",
     "text": [
      "------------------------------\n",
      "1 : Nhập danh sách nhân viên (Y1)\n",
      "2 : Đọc và xuất danh sách nhân viên (Y2)\n",
      "3 : Tìm nhân viên theo mã (Y3)\n",
      "4 : Xóa nhân viên theo mã (Y4)\n",
      "5 : Cập nhật nhân viên theo mã (Y5)\n",
      "6 :  Tìm nhân viên theo khoảng lương (Y6)\n",
      "7 : Sắp xếp nhân viên theo họ tên (Y7)\n",
      "8 : Sắp xếp nhân viên theo thu nhập (Y8)\n",
      "9 : Xuất 5 nhân viên có thu nhập cao nhất (Y9)\n",
      "0 : Thoát\n"
     ]
    },
    {
     "ename": "AttributeError",
     "evalue": "module 'asm' has no attribute 'nhap_danh_sach_va_luu_file'",
     "output_type": "error",
     "traceback": [
      "\u001b[31m---------------------------------------------------------------------------\u001b[39m",
      "\u001b[31mAttributeError\u001b[39m                            Traceback (most recent call last)",
      "\u001b[36mCell\u001b[39m\u001b[36m \u001b[39m\u001b[32mIn[13]\u001b[39m\u001b[32m, line 25\u001b[39m\n\u001b[32m     23\u001b[39m \u001b[38;5;28;01mif\u001b[39;00m lua_Chon \u001b[38;5;129;01min\u001b[39;00m menu:\n\u001b[32m     24\u001b[39m     \u001b[38;5;28;01mif\u001b[39;00m lua_Chon == \u001b[33m\"\u001b[39m\u001b[33m1\u001b[39m\u001b[33m\"\u001b[39m:\n\u001b[32m---> \u001b[39m\u001b[32m25\u001b[39m            \u001b[43masm\u001b[49m\u001b[43m.\u001b[49m\u001b[43mnhap_danh_sach_va_luu_file\u001b[49m()\n\u001b[32m     26\u001b[39m     \u001b[38;5;28;01melif\u001b[39;00m lua_Chon == \u001b[33m\"\u001b[39m\u001b[33m2\u001b[39m\u001b[33m\"\u001b[39m:\n\u001b[32m     27\u001b[39m          asm.doc_va_xuat_danh_sach()\n",
      "\u001b[31mAttributeError\u001b[39m: module 'asm' has no attribute 'nhap_danh_sach_va_luu_file'"
     ]
    }
   ],
   "source": [
    "import asm\n",
    "menu = {\n",
    "        \n",
    "        \"1\": \"Nhập danh sách nhân viên (Y1)\",\n",
    "        \"2\": \"Đọc và xuất danh sách nhân viên (Y2)\",\n",
    "        \"3\": \"Tìm nhân viên theo mã (Y3)\",\n",
    "        \"4\": \"Xóa nhân viên theo mã (Y4)\",\n",
    "        \"5\": \"Cập nhật nhân viên theo mã (Y5)\",\n",
    "        \"6\":\" Tìm nhân viên theo khoảng lương (Y6)\",\n",
    "        \"7\": \"Sắp xếp nhân viên theo họ tên (Y7)\",\n",
    "        \"8\": \"Sắp xếp nhân viên theo thu nhập (Y8)\",\n",
    "        \"9\": \"Xuất 5 nhân viên có thu nhập cao nhất (Y9)\",\n",
    "        \"0\": \"Thoát\"\n",
    "}\n",
    "while True:\n",
    "     \n",
    "    print(\"------------------------------\")\n",
    "    for k, v in menu.items():\n",
    "        print(f\"{k} : {v}\")\n",
    "\n",
    "    lua_Chon = input(\"Chọn chức năng chương trình: \")\n",
    "\n",
    "    if lua_Chon in menu:\n",
    "        if lua_Chon == \"1\":\n",
    "               asm.nhap_danh_sach_va_luu_file()\n",
    "        elif lua_Chon == \"2\":\n",
    "             asm.doc_va_xuat_danh_sach()\n",
    "        elif lua_Chon == \"3\":\n",
    "             asm.tim_nhan_vien_theo_ma()\n",
    "        elif lua_Chon == \"4\":\n",
    "             asm.xoa_nhan_vien_theo_ma()\n",
    "        elif lua_Chon == \"5\":\n",
    "             asm.cap_nhat_thong_tin_nhan_vien()\n",
    "        elif lua_Chon == \"6\":\n",
    "             asm.tim_nhan_vien_theo_khoang_luong()\n",
    "        elif lua_Chon == \"7\":\n",
    "             asm.sap_xep_theo_ho_ten()\n",
    "        elif lua_Chon == \"8\":\n",
    "             asm.sap_xep_theo_thu_nhap()\n",
    "        elif lua_Chon == \"9\":\n",
    "             asm.xuat_5_nhan_vien_thu_nhap_cao_nhat()\n",
    "        elif lua_Chon == \"0\":\n",
    "             print(\"Thoát chương trình.\")\n",
    "        break\n",
    "              \n",
    "\n",
    "\n",
    "\n"
   ]
  }
 ],
 "metadata": {
  "kernelspec": {
   "display_name": "Python 3",
   "language": "python",
   "name": "python3"
  },
  "language_info": {
   "codemirror_mode": {
    "name": "ipython",
    "version": 3
   },
   "file_extension": ".py",
   "mimetype": "text/x-python",
   "name": "python",
   "nbconvert_exporter": "python",
   "pygments_lexer": "ipython3",
   "version": "3.13.7"
  }
 },
 "nbformat": 4,
 "nbformat_minor": 5
}
