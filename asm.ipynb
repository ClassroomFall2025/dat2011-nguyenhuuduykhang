{
 "cells": [
  {
   "cell_type": "code",
   "execution_count": null,
   "id": "a62fe686",
   "metadata": {},
   "outputs": [
    {
     "name": "stdout",
     "output_type": "stream",
     "text": [
      "------------------------------\n",
      "1 : Nhập danh sách nhân viên (Y1)\n",
      "2 : Đọc và xuất danh sách nhân viên (Y2)\n",
      "3 : Tìm nhân viên theo mã (Y3)\n",
      "4 : Xóa nhân viên theo mã (Y4)\n",
      "5 : Cập nhật nhân viên theo mã (Y5)\n",
      "6 : Tìm nhân viên theo khoảng lương (Y6)\n",
      "7 : Sắp xếp nhân viên theo họ tên (Y7)\n",
      "8 : Sắp xếp nhân viên theo thu nhập (Y8)\n",
      "9 : Xuất 5 nhân viên có thu nhập cao nhất (Y9)\n",
      "0 : Thoát\n"
     ]
    },
    {
     "ename": "TypeError",
     "evalue": "nhap_danh_sach_va_luu_file() missing 1 required positional argument: 'self'",
     "output_type": "error",
     "traceback": [
      "\u001b[31m---------------------------------------------------------------------------\u001b[39m",
      "\u001b[31mTypeError\u001b[39m                                 Traceback (most recent call last)",
      "\u001b[36mCell\u001b[39m\u001b[36m \u001b[39m\u001b[32mIn[2]\u001b[39m\u001b[32m, line 26\u001b[39m\n\u001b[32m     24\u001b[39m \u001b[38;5;28;01mif\u001b[39;00m lua_Chon \u001b[38;5;129;01min\u001b[39;00m menu:\n\u001b[32m     25\u001b[39m     \u001b[38;5;28;01mif\u001b[39;00m lua_Chon == \u001b[33m\"\u001b[39m\u001b[33m1\u001b[39m\u001b[33m\"\u001b[39m:\n\u001b[32m---> \u001b[39m\u001b[32m26\u001b[39m         \u001b[43mnhap_danh_sach_va_luu_file\u001b[49m\u001b[43m(\u001b[49m\u001b[43m)\u001b[49m\n\u001b[32m     27\u001b[39m     \u001b[38;5;28;01melif\u001b[39;00m lua_Chon == \u001b[33m\"\u001b[39m\u001b[33m2\u001b[39m\u001b[33m\"\u001b[39m:\n\u001b[32m     28\u001b[39m         doc_va_xuat_danh_sach()\n",
      "\u001b[31mTypeError\u001b[39m: nhap_danh_sach_va_luu_file() missing 1 required positional argument: 'self'"
     ]
    }
   ],
   "source": [
    "from asm import *\n",
    "\n",
    "\n",
    "menu = {\n",
    "    \"1\": \"Nhập danh sách nhân viên (Y1)\",\n",
    "    \"2\": \"Đọc và xuất danh sách nhân viên (Y2)\",\n",
    "    \"3\": \"Tìm nhân viên theo mã (Y3)\",\n",
    "    \"4\": \"Xóa nhân viên theo mã (Y4)\",\n",
    "    \"5\": \"Cập nhật nhân viên theo mã (Y5)\",\n",
    "    \"6\": \"Tìm nhân viên theo khoảng lương (Y6)\",\n",
    "    \"7\": \"Sắp xếp nhân viên theo họ tên (Y7)\",\n",
    "    \"8\": \"Sắp xếp nhân viên theo thu nhập (Y8)\",\n",
    "    \"9\": \"Xuất 5 nhân viên có thu nhập cao nhất (Y9)\",\n",
    "    \"0\": \"Thoát\"\n",
    "}\n",
    "\n",
    "while True:\n",
    "    print(\"------------------------------\")\n",
    "    for k, v in menu.items():\n",
    "        print(f\"{k} : {v}\")\n",
    "\n",
    "    lua_Chon = input(\"Chọn chức năng chương trình: \")\n",
    "\n",
    "    if lua_Chon in menu:\n",
    "        if lua_Chon == \"1\":\n",
    "            nhap_danh_sach_va_luu_file()\n",
    "        elif lua_Chon == \"2\":\n",
    "            doc_va_xuat_danh_sach()\n",
    "        elif lua_Chon == \"3\":\n",
    "            tim_nhan_vien_theo_ma()\n",
    "        elif lua_Chon == \"4\":\n",
    "            xoa_nhan_vien_theo_ma()\n",
    "        elif lua_Chon == \"5\":\n",
    "            cap_nhat_thong_tin_nhan_vien()\n",
    "        elif lua_Chon == \"6\":\n",
    "            tim_nhan_vien_theo_khoang_luong()\n",
    "        elif lua_Chon == \"7\":\n",
    "            sap_xep_theo_ho_ten()\n",
    "        elif lua_Chon == \"8\":\n",
    "            sap_xep_theo_thu_nhap()\n",
    "        elif lua_Chon == \"9\":\n",
    "            xuat_5_nhan_vien_thu_nhap_cao_nhat()\n",
    "        elif lua_Chon == \"0\":\n",
    "            print(\"Thoát chương trình.\")\n",
    "            break \n",
    "    else:\n",
    "        print(\" Lựa chọn không hợp lệ, vui lòng chọn lại!\")\n",
    "\n",
    "              \n",
    "\n",
    "\n",
    "\n"
   ]
  }
 ],
 "metadata": {
  "kernelspec": {
   "display_name": "Python 3",
   "language": "python",
   "name": "python3"
  },
  "language_info": {
   "codemirror_mode": {
    "name": "ipython",
    "version": 3
   },
   "file_extension": ".py",
   "mimetype": "text/x-python",
   "name": "python",
   "nbconvert_exporter": "python",
   "pygments_lexer": "ipython3",
   "version": "3.14.0"
  }
 },
 "nbformat": 4,
 "nbformat_minor": 5
}
