{
 "cells": [
  {
   "cell_type": "markdown",
   "id": "fdeff819",
   "metadata": {},
   "source": [
    "# Sinh Viên thực hiện Lab 4 ở Đây"
   ]
  },
  {
   "cell_type": "markdown",
   "id": "acc5d7dc",
   "metadata": {},
   "source": [
    "## Lab 1 - Bài 1"
   ]
  },
  {
   "cell_type": "code",
   "execution_count": null,
   "id": "001e0507",
   "metadata": {},
   "outputs": [],
   "source": [
    "# Code lab 4 bài 1 ở đây\n",
    "def tinh_nguyen_lieu(sl_bdx, sl_btc, sl_bd):\n",
    "    banh_dau_xanh = {\"đường\" : 0.04 , \"đậu\" : 0.07}\n",
    "    banh_thap_cam = {\"đường\" : 0.06 , \"đậu\" : 0}\n",
    "    banh_deo = {\"đường\" : 0.05 , \"đậu\" : 0.02}\n",
    "    nguyen_lieu = {}\n",
    "    duong_hop_banh = sl_bdx * banh_dau_xanh[\"đường\"] + sl_btc * banh_thap_cam[\"đường\"] + sl_bd * banh_deo[\"đường\"]\n",
    "    dau_hop_banh = sl_bdx * banh_dau_xanh[\"đậu\"] + sl_btc * banh_thap_cam[\"đậu\"] + sl_bd * banh_deo[\"đậu\"]\n",
    "    nguyen_lieu [\"đường\"] = duong_hop_banh\n",
    "    nguyen_lieu [\"đậu\"] = dau_hop_banh\n",
    "    return nguyen_lieu"
   ]
  },
  {
   "cell_type": "markdown",
   "id": "c0835310",
   "metadata": {},
   "source": [
    "## Lab 4 - Bài 2"
   ]
  },
  {
   "cell_type": "code",
   "execution_count": null,
   "id": "fa9cb39f",
   "metadata": {},
   "outputs": [
    {
     "name": "stdout",
     "output_type": "stream",
     "text": [
      "\n",
      "===== MENU =========\n",
      "1. Tính tiền nước sinh hoạt\n",
      "2. Tính nguyên liệu làm bánh\n",
      "3. Kết thúc\n",
      "Bạn đã chọn tính tiền nước sinh hoạt.\n",
      "Tiền nước tháng này là: 119,563,000 VND\n",
      "\n",
      "===== MENU =========\n",
      "1. Tính tiền nước sinh hoạt\n",
      "2. Tính nguyên liệu làm bánh\n",
      "3. Kết thúc\n"
     ]
    },
    {
     "ename": "KeyboardInterrupt",
     "evalue": "Interrupted by user",
     "output_type": "error",
     "traceback": [
      "\u001b[31m---------------------------------------------------------------------------\u001b[39m",
      "\u001b[31mKeyboardInterrupt\u001b[39m                         Traceback (most recent call last)",
      "\u001b[36mCell\u001b[39m\u001b[36m \u001b[39m\u001b[32mIn[4]\u001b[39m\u001b[32m, line 41\u001b[39m\n\u001b[32m     39\u001b[39m \u001b[38;5;28;01mfor\u001b[39;00m key, value \u001b[38;5;129;01min\u001b[39;00m menu.items():\n\u001b[32m     40\u001b[39m     \u001b[38;5;28mprint\u001b[39m(\u001b[33mf\u001b[39m\u001b[33m\"\u001b[39m\u001b[38;5;132;01m{\u001b[39;00mkey\u001b[38;5;132;01m}\u001b[39;00m\u001b[33m. \u001b[39m\u001b[38;5;132;01m{\u001b[39;00mvalue\u001b[38;5;132;01m}\u001b[39;00m\u001b[33m\"\u001b[39m)\n\u001b[32m---> \u001b[39m\u001b[32m41\u001b[39m choice = \u001b[38;5;28;43minput\u001b[39;49m\u001b[43m(\u001b[49m\u001b[33;43m\"\u001b[39;49m\u001b[33;43mChọn một mục (1-3): \u001b[39;49m\u001b[33;43m\"\u001b[39;49m\u001b[43m)\u001b[49m\n\u001b[32m     43\u001b[39m \u001b[38;5;28;01mif\u001b[39;00m choice == \u001b[33m\"\u001b[39m\u001b[33m1\u001b[39m\u001b[33m\"\u001b[39m:\n\u001b[32m     44\u001b[39m     \u001b[38;5;28mprint\u001b[39m(\u001b[33m\"\u001b[39m\u001b[33mBạn đã chọn tính tiền nước sinh hoạt.\u001b[39m\u001b[33m\"\u001b[39m)\n",
      "\u001b[36mFile \u001b[39m\u001b[32m~\\AppData\\Roaming\\Python\\Python313\\site-packages\\ipykernel\\kernelbase.py:1275\u001b[39m, in \u001b[36mKernel.raw_input\u001b[39m\u001b[34m(self, prompt)\u001b[39m\n\u001b[32m   1273\u001b[39m     msg = \u001b[33m\"\u001b[39m\u001b[33mraw_input was called, but this frontend does not support input requests.\u001b[39m\u001b[33m\"\u001b[39m\n\u001b[32m   1274\u001b[39m     \u001b[38;5;28;01mraise\u001b[39;00m StdinNotImplementedError(msg)\n\u001b[32m-> \u001b[39m\u001b[32m1275\u001b[39m \u001b[38;5;28;01mreturn\u001b[39;00m \u001b[38;5;28;43mself\u001b[39;49m\u001b[43m.\u001b[49m\u001b[43m_input_request\u001b[49m\u001b[43m(\u001b[49m\n\u001b[32m   1276\u001b[39m \u001b[43m    \u001b[49m\u001b[38;5;28;43mstr\u001b[39;49m\u001b[43m(\u001b[49m\u001b[43mprompt\u001b[49m\u001b[43m)\u001b[49m\u001b[43m,\u001b[49m\n\u001b[32m   1277\u001b[39m \u001b[43m    \u001b[49m\u001b[38;5;28;43mself\u001b[39;49m\u001b[43m.\u001b[49m\u001b[43m_parent_ident\u001b[49m\u001b[43m[\u001b[49m\u001b[33;43m\"\u001b[39;49m\u001b[33;43mshell\u001b[39;49m\u001b[33;43m\"\u001b[39;49m\u001b[43m]\u001b[49m\u001b[43m,\u001b[49m\n\u001b[32m   1278\u001b[39m \u001b[43m    \u001b[49m\u001b[38;5;28;43mself\u001b[39;49m\u001b[43m.\u001b[49m\u001b[43mget_parent\u001b[49m\u001b[43m(\u001b[49m\u001b[33;43m\"\u001b[39;49m\u001b[33;43mshell\u001b[39;49m\u001b[33;43m\"\u001b[39;49m\u001b[43m)\u001b[49m\u001b[43m,\u001b[49m\n\u001b[32m   1279\u001b[39m \u001b[43m    \u001b[49m\u001b[43mpassword\u001b[49m\u001b[43m=\u001b[49m\u001b[38;5;28;43;01mFalse\u001b[39;49;00m\u001b[43m,\u001b[49m\n\u001b[32m   1280\u001b[39m \u001b[43m\u001b[49m\u001b[43m)\u001b[49m\n",
      "\u001b[36mFile \u001b[39m\u001b[32m~\\AppData\\Roaming\\Python\\Python313\\site-packages\\ipykernel\\kernelbase.py:1320\u001b[39m, in \u001b[36mKernel._input_request\u001b[39m\u001b[34m(self, prompt, ident, parent, password)\u001b[39m\n\u001b[32m   1317\u001b[39m \u001b[38;5;28;01mexcept\u001b[39;00m \u001b[38;5;167;01mKeyboardInterrupt\u001b[39;00m:\n\u001b[32m   1318\u001b[39m     \u001b[38;5;66;03m# re-raise KeyboardInterrupt, to truncate traceback\u001b[39;00m\n\u001b[32m   1319\u001b[39m     msg = \u001b[33m\"\u001b[39m\u001b[33mInterrupted by user\u001b[39m\u001b[33m\"\u001b[39m\n\u001b[32m-> \u001b[39m\u001b[32m1320\u001b[39m     \u001b[38;5;28;01mraise\u001b[39;00m \u001b[38;5;167;01mKeyboardInterrupt\u001b[39;00m(msg) \u001b[38;5;28;01mfrom\u001b[39;00m\u001b[38;5;250m \u001b[39m\u001b[38;5;28;01mNone\u001b[39;00m\n\u001b[32m   1321\u001b[39m \u001b[38;5;28;01mexcept\u001b[39;00m \u001b[38;5;167;01mException\u001b[39;00m:\n\u001b[32m   1322\u001b[39m     \u001b[38;5;28mself\u001b[39m.log.warning(\u001b[33m\"\u001b[39m\u001b[33mInvalid Message:\u001b[39m\u001b[33m\"\u001b[39m, exc_info=\u001b[38;5;28;01mTrue\u001b[39;00m)\n",
      "\u001b[31mKeyboardInterrupt\u001b[39m: Interrupted by user"
     ]
    }
   ],
   "source": [
    "# Code lab 4  bài 2 ở đây\n",
    "def tinh_tien_nuoc (so_nuoc):\n",
    "    gia_ban_nuoc=  (7500, 8800, 12000, 24000) \n",
    "    if so_nuoc <= 10:\n",
    "        tien_nuoc_thang = so_nuoc * gia_ban_nuoc[0]\n",
    "    elif so_nuoc <= 20:\n",
    "        tien_nuoc_thang = 10 * gia_ban_nuoc[0] * (so_nuoc - 10) * gia_ban_nuoc[1]\n",
    "    elif so_nuoc <= 30:\n",
    "        tien_nuoc_thang = 10 * gia_ban_nuoc[0] * 10 * gia_ban_nuoc[1] + (so_nuoc - 20) * gia_ban_nuoc[2]\n",
    "    else:\n",
    "        tien_nuoc_thang = 10 * gia_ban_nuoc[0] * 10 * gia_ban_nuoc[1] + 10 * gia_ban_nuoc[2] + (so_nuoc - 30) * gia_ban_nuoc[3]\n",
    "    return tien_nuoc_thang\n",
    "\n"
   ]
  },
  {
   "cell_type": "markdown",
   "id": "0f2483fe",
   "metadata": {},
   "source": [
    "## Lab 4 - Bài 3"
   ]
  },
  {
   "cell_type": "code",
   "execution_count": null,
   "id": "7034990b",
   "metadata": {},
   "outputs": [
    {
     "name": "stdout",
     "output_type": "stream",
     "text": [
      "Nhập từng số nguyên:\n",
      "Lỗi: Vui lòng nhập số nguyên!\n",
      "Lỗi: Vui lòng nhập số nguyên!\n",
      "Lỗi: Vui lòng nhập số nguyên!\n",
      "Lỗi: Vui lòng nhập số nguyên!\n",
      "Lỗi: Vui lòng nhập số nguyên!\n",
      "Lỗi: Vui lòng nhập số nguyên!\n",
      "Lỗi: Vui lòng nhập số nguyên!\n",
      "Lỗi: Vui lòng nhập số nguyên!\n",
      "Lỗi: Vui lòng nhập số nguyên!\n",
      "Danh sách đã nhập: [1, 1, 1, 1, 1, 1, 1, 1, 1, 1, 1, 2, 133, 13, 11, 3, 3, 33333, 1, 3, 13, 3, 3, 3, 3, 3, 3, 3, 3, 3, 3, 3, 3, 3, 3, 3, 3]\n",
      "Các số chẵn trong dãy là: [2]\n"
     ]
    }
   ],
   "source": [
    "# Code lab 4  bài 3 ở đây\n",
    "my_list = []\n",
    "print(\"Nhập từng số nguyên:\")\n",
    "while True:\n",
    "    so = input(\"Nhập số: \")\n",
    "    if so == \"q\":\n",
    "        break\n",
    "    try:\n",
    "        number = int(so)\n",
    "        my_list.append(number)\n",
    "    except ValueError:\n",
    "        print(\"Lỗi: Vui lòng nhập số nguyên!\")\n",
    "\n",
    "print(\"Danh sách đã nhập:\", my_list)\n",
    "\n",
    "# Lọc ra các số chẵn bằng lambda và filter\n",
    "new_list = list(filter(lambda x: x % 2 == 0, my_list))\n",
    "\n",
    "print(\"Các số chẵn trong dãy là:\", new_list)"
   ]
  },
  {
   "cell_type": "markdown",
   "id": "d36ea3d3",
   "metadata": {},
   "source": [
    "## Lab 4 - Bài 4"
   ]
  },
  {
   "cell_type": "code",
   "execution_count": null,
   "id": "4c707ec1",
   "metadata": {},
   "outputs": [
    {
     "name": "stdout",
     "output_type": "stream",
     "text": [
      "------------------------------\n",
      "1 : Tính tiền nước sinh hoạt\n",
      "2 : Tính nguyên liệu làm bánh\n",
      "3 : Kết thúc\n",
      "Số tiền thanh toán cho tiền nước là: 15000.0\n",
      "------------------------------\n",
      "1 : Tính tiền nước sinh hoạt\n",
      "2 : Tính nguyên liệu làm bánh\n",
      "3 : Kết thúc\n",
      "Số tiền thanh toán cho tiền nước là: 223000.0\n",
      "------------------------------\n",
      "1 : Tính tiền nước sinh hoạt\n",
      "2 : Tính nguyên liệu làm bánh\n",
      "3 : Kết thúc\n",
      "Kết thúc chương trình\n"
     ]
    }
   ],
   "source": [
    "\n",
    "# Code lab 4  bài 4 ở đây\n",
    "import lab4   # file lab4.py phải có các hàm: tinh_tien_nuoc(), tinh_nguyen_lieu()\n",
    "\n",
    "Menu = {\n",
    "    \"1\": \"Tính tiền nước sinh hoạt\",\n",
    "    \"2\": \"Tính nguyên liệu làm bánh\",\n",
    "    \"3\": \"Kết thúc\"\n",
    "}\n",
    "\n",
    "while True:\n",
    "    print(\"------------------------------\")\n",
    "    for k, v in Menu.items():\n",
    "        print(f\"{k} : {v}\")\n",
    "\n",
    "    lua_Chon = input(\"Chọn chức năng chương trình: \")\n",
    "\n",
    "    if lua_Chon == \"3\":\n",
    "        print(\"Kết thúc chương trình\")\n",
    "        break\n",
    "\n",
    "    elif lua_Chon == \"1\":\n",
    "        so_nuoc = float(input(\"Nhập số nước: \"))\n",
    "        print(\"Số tiền thanh toán cho tiền nước là:\", lab4.tinh_tien_nuoc(so_nuoc))\n",
    "\n",
    "    elif lua_Chon == \"2\":\n",
    "        sl_bdx = float(input(\"Nhập số lượng bánh đậu xanh: \"))\n",
    "        sl_btc = float(input(\"Nhập số lượng bánh thập cẩm: \"))\n",
    "        sl_bd = float(input(\"Nhập số lượng bánh dẻo: \"))\n",
    "        print(\"Nguyên liệu làm bánh:\", lab4.tinh_nguyen_lieu(sl_bdx, sl_btc, sl_bd))\n",
    "\n",
    "    else:\n",
    "        print(\"Lựa chọn không hợp lệ, vui lòng chọn lại!\")\n",
    "\n",
    "\n"
   ]
  },
  {
   "cell_type": "markdown",
   "id": "e2b41d4a",
   "metadata": {},
   "source": [
    "## Lab 4 - Bài 5: bài tập làm thêm"
   ]
  },
  {
   "cell_type": "code",
   "execution_count": null,
   "id": "0e0172f7",
   "metadata": {},
   "outputs": [],
   "source": [
    "# code lab 4  bài làm thêm ở đây \n"
   ]
  }
 ],
 "metadata": {
  "kernelspec": {
   "display_name": "Python 3",
   "language": "python",
   "name": "python3"
  },
  "language_info": {
   "codemirror_mode": {
    "name": "ipython",
    "version": 3
   },
   "file_extension": ".py",
   "mimetype": "text/x-python",
   "name": "python",
   "nbconvert_exporter": "python",
   "pygments_lexer": "ipython3",
   "version": "3.13.7"
  }
 },
 "nbformat": 4,
 "nbformat_minor": 5
}
