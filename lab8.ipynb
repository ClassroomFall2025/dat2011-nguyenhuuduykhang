{
 "cells": [
  {
   "cell_type": "markdown",
   "id": "fdeff819",
   "metadata": {},
   "source": [
    "# Sinh Viên thực hiện Lab 8 ở Đây"
   ]
  },
  {
   "cell_type": "markdown",
   "id": "acc5d7dc",
   "metadata": {},
   "source": [
    "## Lab 8 - Bài 1"
   ]
  },
  {
   "cell_type": "code",
   "execution_count": 1,
   "id": "001e0507",
   "metadata": {},
   "outputs": [
    {
     "name": "stdout",
     "output_type": "stream",
     "text": [
      "Họ: NGUYỄN\n",
      "Tên đệm: hữu duy\n",
      "Tên: KHANG\n"
     ]
    }
   ],
   "source": [
    "# Code lab 8 bài 1 ở đây\n",
    "# Nhập họ và tên\n",
    "ho_ten = input(\"Nhập họ và tên: \").strip()\n",
    "\n",
    "# Tách các phần bằng split()\n",
    "parts = ho_ten.split()\n",
    "\n",
    "# Xác định họ, tên, tên đệm\n",
    "ho = parts[0]\n",
    "ten = parts[-1]\n",
    "ten_dem = \" \".join(parts[1:-1]) if len(parts) > 2 else \"\"\n",
    "\n",
    "# Xuất kết quả\n",
    "print(f\"Họ: {ho.upper()}\")\n",
    "print(f\"Tên đệm: {ten_dem}\")\n",
    "print(f\"Tên: {ten.upper()}\")\n"
   ]
  },
  {
   "cell_type": "markdown",
   "id": "c0835310",
   "metadata": {},
   "source": [
    "## Lab 8 - Bài 2"
   ]
  },
  {
   "cell_type": "code",
   "execution_count": 2,
   "id": "fa9cb39f",
   "metadata": {},
   "outputs": [
    {
     "name": "stdout",
     "output_type": "stream",
     "text": [
      "\n",
      "===== KẾT QUẢ KIỂM TRA =====\n",
      "Họ và tên: nguyễn hữu duy khang\n",
      "Email: nguyenhuuduykhang@gmail.com\n",
      "Số điện thoại: 0397202305\n",
      "❌ Lỗi: CMND phải gồm 9 hoặc 12 chữ số!\n"
     ]
    }
   ],
   "source": [
    "# Code lab 8  bài 2 ở đây\n",
    "import re  # Dùng thư viện regex để kiểm tra định dạng\n",
    "\n",
    "# Nhập thông tin sinh viên\n",
    "ho_ten = input(\"Nhập họ và tên sinh viên: \").strip()\n",
    "email = input(\"Nhập email: \").strip()\n",
    "so_dt = input(\"Nhập số điện thoại: \").strip()\n",
    "cmnd = input(\"Nhập số CMND: \").strip()\n",
    "\n",
    "# Kiểm tra định dạng bằng regex\n",
    "email_hop_le = re.match(r'^[\\w\\.-]+@[\\w\\.-]+\\.\\w+$', email)\n",
    "sdt_hop_le = re.match(r'^0\\d{9}$', so_dt)\n",
    "cmnd_hop_le = re.match(r'^\\d{9}$', cmnd) or re.match(r'^\\d{12}$', cmnd)\n",
    "\n",
    "# Xuất kết quả\n",
    "print(\"\\n===== KẾT QUẢ KIỂM TRA =====\")\n",
    "print(f\"Họ và tên: {ho_ten}\")\n",
    "\n",
    "if email_hop_le:\n",
    "    print(f\"Email: {email}\")\n",
    "else:\n",
    "    print(\"❌ Lỗi: Email không hợp lệ!\")\n",
    "\n",
    "if sdt_hop_le:\n",
    "    print(f\"Số điện thoại: {so_dt}\")\n",
    "else:\n",
    "    print(\"❌ Lỗi: Số điện thoại phải gồm 10 chữ số và bắt đầu bằng 0!\")\n",
    "\n",
    "if cmnd_hop_le:\n",
    "    print(f\"CMND: {cmnd}\")\n",
    "else:\n",
    "    print(\"❌ Lỗi: CMND phải gồm 9 hoặc 12 chữ số!\")\n"
   ]
  },
  {
   "cell_type": "markdown",
   "id": "0f2483fe",
   "metadata": {},
   "source": [
    "## Lab 8 - Bài 3"
   ]
  },
  {
   "cell_type": "code",
   "execution_count": 3,
   "id": "7034990b",
   "metadata": {},
   "outputs": [
    {
     "name": "stdout",
     "output_type": "stream",
     "text": [
      " Đã tạo file dulieu.txt chứa 1.000.000 số ngẫu nhiên (0..100).\n"
     ]
    }
   ],
   "source": [
    "# Code lab 8  bài 3 ở đây\n",
    "import random\n",
    "\n",
    "N = 1_000_000\n",
    "\n",
    "with open(\"dulieu.txt\", \"w\", encoding=\"utf-8\") as f:\n",
    "    for i in range(N):\n",
    "        f.write(str(random.randint(0, 100)))\n",
    "        if i < N - 1:\n",
    "            f.write(\" \")\n",
    "\n",
    "print(\" Đã tạo file dulieu.txt chứa 1.000.000 số ngẫu nhiên (0..100).\")"
   ]
  },
  {
   "cell_type": "markdown",
   "id": "d36ea3d3",
   "metadata": {},
   "source": [
    "## Lab 8 - Bài 4"
   ]
  },
  {
   "cell_type": "code",
   "execution_count": 5,
   "id": "4c707ec1",
   "metadata": {},
   "outputs": [
    {
     "name": "stdout",
     "output_type": "stream",
     "text": [
      "Trung bình (Mean): 49.961385\n",
      "Độ lệch chuẩn (Standard Deviation): 29.16098959646413\n"
     ]
    }
   ],
   "source": [
    "# code lab 8 bài 4 ở đây\n",
    "import statistics\n",
    "\n",
    "# Đọc dữ liệu từ file\n",
    "with open(\"dulieu.txt\", \"r\") as f:\n",
    "    data = list(map(int, f.read().split()))\n",
    "\n",
    "# Tính toán\n",
    "mean_val = statistics.mean(data)\n",
    "stdev_val = statistics.stdev(data)\n",
    "\n",
    "# Kết quả\n",
    "print(f\"Trung bình (Mean): {mean_val}\")\n",
    "print(f\"Độ lệch chuẩn (Standard Deviation): {stdev_val}\")\n"
   ]
  },
  {
   "cell_type": "markdown",
   "id": "e2b41d4a",
   "metadata": {},
   "source": [
    "## Lab 8 - Bài 5: bài tập làm thêm"
   ]
  },
  {
   "cell_type": "code",
   "execution_count": null,
   "id": "0e0172f7",
   "metadata": {},
   "outputs": [],
   "source": [
    "# code lab 8  bài làm thêm ở đây "
   ]
  }
 ],
 "metadata": {
  "kernelspec": {
   "display_name": "Python 3",
   "language": "python",
   "name": "python3"
  },
  "language_info": {
   "codemirror_mode": {
    "name": "ipython",
    "version": 3
   },
   "file_extension": ".py",
   "mimetype": "text/x-python",
   "name": "python",
   "nbconvert_exporter": "python",
   "pygments_lexer": "ipython3",
   "version": "3.14.0"
  }
 },
 "nbformat": 4,
 "nbformat_minor": 5
}
