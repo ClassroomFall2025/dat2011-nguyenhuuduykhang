{
 "cells": [
  {
   "cell_type": "markdown",
   "id": "fdeff819",
   "metadata": {},
   "source": [
    "# Sinh Viên thực hiện Lab 1 ở Đây"
   ]
  },
  {
   "cell_type": "markdown",
   "id": "acc5d7dc",
   "metadata": {},
   "source": [
    "## Lab 1 - Bài 1"
   ]
  },
  {
   "cell_type": "code",
   "execution_count": 1,
   "id": "001e0507",
   "metadata": {},
   "outputs": [
    {
     "name": "stdout",
     "output_type": "stream",
     "text": [
      "tôi là nguyễn hữu duy khang\n",
      "tôi sống ở tphcm\n"
     ]
    }
   ],
   "source": [
    "# Code lab 1 bài 1 ở đây \n",
    "print(\"tôi là nguyễn hữu duy khang\")\n",
    "print(\"tôi sống ở tphcm\")"
   ]
  },
  {
   "cell_type": "markdown",
   "id": "c0835310",
   "metadata": {},
   "source": [
    "## Lab 1 - Bài 2"
   ]
  },
  {
   "cell_type": "code",
   "execution_count": null,
   "id": "fa9cb39f",
   "metadata": {},
   "outputs": [
    {
     "name": "stdout",
     "output_type": "stream",
     "text": [
      "Diện tích hình chữ nhật là:  200\n",
      "Chu vi hình chữ nhật là:  60\n"
     ]
    }
   ],
   "source": [
    "# Code lab 1  bài 2 ở đây\n",
    "chieu_dai=int(input(\"Nhập chiều dài: \"))\n",
    "chieu_rong=int(input(\"Nhập chiều rộng: \"))\n",
    "dien_tich=chieu_dai*chieu_rong\n",
    "chu_vi=(chieu_dai+chieu_rong)*2\n",
    "print(\"Diện tích hình chữ nhật là: \",dien_tich)\n",
    "print(\"Chu vi hình chữ nhật là: \",chu_vi)\n"
   ]
  },
  {
   "cell_type": "markdown",
   "id": "0f2483fe",
   "metadata": {},
   "source": [
    "## Lab 1 - Bài 3"
   ]
  },
  {
   "cell_type": "code",
   "execution_count": 6,
   "id": "7034990b",
   "metadata": {},
   "outputs": [
    {
     "name": "stdout",
     "output_type": "stream",
     "text": [
      "\"...\n",
      "sống không giận, không hờn không oán trách\n",
      "sống mỉm cười, với thử thách chông gai\n",
      "sống vươn lên, theo kịp ánh ban mai\n",
      "sống chan hòa, với những người chung sống.\n",
      "\n",
      "\n",
      "sống là động, nhưng lòng luôn bất động\n",
      "sống là thương, nhưng lòng chẳng vấn vương\n",
      "sống yên vui, danh lợi mãi coi thường\n",
      "tâm bất biến, giữa dòng đời vạn biến.\n",
      "...\"\n"
     ]
    }
   ],
   "source": [
    "# Code lab 1  bài 3 ở đây\n",
    "print(\"\\\"...\")\n",
    "song = \"sống\"\n",
    "print(f\"{song} không giận, không hờn không oán trách\")\n",
    "print(f\"{song} mỉm cười, với thử thách chông gai\")\n",
    "print(f\"{song} vươn lên, theo kịp ánh ban mai\")\n",
    "print(f\"{song} chan hòa, với những người chung sống.\")\n",
    "print(\"\\n\")\n",
    "print(f\"{song} là động, nhưng lòng luôn bất động\")\n",
    "print(f\"{song} là thương, nhưng lòng chẳng vấn vương\")\n",
    "print(f\"{song} yên vui, danh lợi mãi coi thường\")\n",
    "print(\"tâm bất biến, giữa dòng đời vạn biến.\")\n",
    "print(\"...\\\"\")"
   ]
  },
  {
   "cell_type": "markdown",
   "id": "d36ea3d3",
   "metadata": {},
   "source": [
    "## Lab 1 - Bài 4"
   ]
  },
  {
   "cell_type": "code",
   "execution_count": 12,
   "id": "4c707ec1",
   "metadata": {},
   "outputs": [
    {
     "name": "stdout",
     "output_type": "stream",
     "text": [
      "Delta là =  -70000\n",
      "căn delta là =  264.5751311064591\n"
     ]
    }
   ],
   "source": [
    "# code lab 1 bài 4 ở đây\n",
    "import math\n",
    "a=int(input(\"Nhập a: \"))\n",
    "b=int(input(\"Nhập b: \"))\n",
    "c=int(input(\"Nhập c: \"))\n",
    "delta=b**2-4*a*c\n",
    "print(\"Delta là = \",delta)\n",
    "print(\"căn delta là = \",math.sqrt(abs(delta)))"
   ]
  },
  {
   "cell_type": "markdown",
   "id": "e2b41d4a",
   "metadata": {},
   "source": [
    "## Lab 1 - Bài 5: bài tập làm thêm"
   ]
  },
  {
   "cell_type": "code",
   "execution_count": null,
   "id": "0e0172f7",
   "metadata": {},
   "outputs": [],
   "source": [
    "# code lab 1  bài làm thêm ở đây "
   ]
  }
 ],
 "metadata": {
  "kernelspec": {
   "display_name": "Python 3",
   "language": "python",
   "name": "python3"
  },
  "language_info": {
   "codemirror_mode": {
    "name": "ipython",
    "version": 3
   },
   "file_extension": ".py",
   "mimetype": "text/x-python",
   "name": "python",
   "nbconvert_exporter": "python",
   "pygments_lexer": "ipython3",
   "version": "3.13.7"
  }
 },
 "nbformat": 4,
 "nbformat_minor": 5
}
