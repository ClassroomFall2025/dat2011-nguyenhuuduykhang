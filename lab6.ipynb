{
 "cells": [
  {
   "cell_type": "markdown",
   "id": "fdeff819",
   "metadata": {},
   "source": [
    "# Sinh Viên thực hiện Lab 6 ở Đây"
   ]
  },
  {
   "cell_type": "markdown",
   "id": "acc5d7dc",
   "metadata": {},
   "source": [
    "## Lab 6 - Bài 1"
   ]
  },
  {
   "cell_type": "code",
   "execution_count": null,
   "id": "001e0507",
   "metadata": {},
   "outputs": [],
   "source": [
    "# Code lab 6 bài 1 ở đây\n",
    "from Hcn import *\n",
    "sp1 = Hcn (\"\", \"\")\n",
    "sp2 = HinhVuong (\"\")\n",
    "sp1.nhap_thong_tin()\n",
    "sp2.nhap_thong_tin()\n",
    "sp1.xuat()\n",
    "sp2.xuat()"
   ]
  },
  {
   "cell_type": "markdown",
   "id": "c0835310",
   "metadata": {},
   "source": [
    "## Lab 6 - Bài 2"
   ]
  },
  {
   "cell_type": "code",
   "execution_count": 15,
   "id": "fa9cb39f",
   "metadata": {},
   "outputs": [],
   "source": [
    "# Code lab 6  bài 2 ở đây\n",
    "from SinhVienPoly import *\n",
    "class SinhVienPoly:\n",
    "    def __init__(self, TenSinhVien, nganh, diem, hoc_luc):\n",
    "        self.TenSinhVien = TenSinhVien\n",
    "        self.nganh = nganh\n",
    "        self.diem = diem\n",
    "        self.hoc_luc = hoc_luc\n",
    "\n",
    "    def get_diem(self):\n",
    "        return self.diem\n",
    "\n",
    "    def get_hoc_luc(self):\n",
    "        return self.hoc_luc\n",
    "\n",
    "    def get_hoc_luc(self):\n",
    "        diem = self.get_diem()\n",
    "        if diem < 5:\n",
    "            return \"Yếu\"\n",
    "        elif diem < 7:\n",
    "            return \"Trung bình\"\n",
    "        elif diem < 8:\n",
    "            return \"Khá\"\n",
    "        elif diem < 9:\n",
    "            return \"Giỏi\"\n",
    "        else:\n",
    "            return \"Xuất sắc\"\n",
    "\n",
    "    def xuat(self):\n",
    "        print(f\"Họ tên: {self.TenSinhVien}\")\n",
    "        print(f\"Ngành: {self.nganh}\")\n",
    "        print(f\"Điểm: {self.get_diem():.2f}\")\n",
    "        print(f\"Học lực: {self.get_hoc_luc()}\")\n",
    "        print(\"-\" * 30)"
   ]
  },
  {
   "cell_type": "markdown",
   "id": "0f2483fe",
   "metadata": {},
   "source": [
    "## Lab 6 - Bài 3"
   ]
  },
  {
   "cell_type": "code",
   "execution_count": 16,
   "id": "7034990b",
   "metadata": {},
   "outputs": [],
   "source": [
    "# Code lab 6  bài 3 ở đây\n",
    "from SinhVienPoly import *\n",
    "class SinhVienIT(SinhVienPoly):\n",
    "    def __init__(self, TenSinhVien, java, html, css):\n",
    "        super().__init__(TenSinhVien, \"IT\")\n",
    "        self.java = java\n",
    "        self.html = html\n",
    "        self.css = css\n",
    "\n",
    "    def get_diem(self):\n",
    "        return (2 * self.java + self.html + self.css) / 4\n",
    "\n",
    "class SinhVienBiz(SinhVienPoly):\n",
    "    def __init__(self, TenSinhVien, marketing, sales):\n",
    "        super().__init__(TenSinhVien, \"Biz\")\n",
    "        self.marketing = marketing\n",
    "        self.sales = sales\n",
    "\n",
    "    def get_diem(self):\n",
    "        return (2 * self.marketing + self.sales) / 3"
   ]
  },
  {
   "cell_type": "markdown",
   "id": "d36ea3d3",
   "metadata": {},
   "source": [
    "## Lab 6 - Bài 4"
   ]
  },
  {
   "cell_type": "code",
   "execution_count": null,
   "id": "4c707ec1",
   "metadata": {},
   "outputs": [
    {
     "ename": "SyntaxError",
     "evalue": "invalid syntax (919387515.py, line 12)",
     "output_type": "error",
     "traceback": [
      "  \u001b[36mCell\u001b[39m\u001b[36m \u001b[39m\u001b[32mIn[2]\u001b[39m\u001b[32m, line 12\u001b[39m\n\u001b[31m    \u001b[39m\u001b[31m}3\u001b[39m\n     ^\n\u001b[31mSyntaxError\u001b[39m\u001b[31m:\u001b[39m invalid syntax\n"
     ]
    }
   ],
   "source": [
    "# code lab 6 bài 4 ở đây\n",
    "from SinhVienPoly import QuanLySinhVien\n",
    "\n",
    "ql = QuanLySinhVien()\n",
    "\n",
    "menu = {\n",
    "    \"1\": \"Nhập danh sách sinh viên\",\n",
    "    \"2\": \"Xuất thông tin danh sách sinh viên\",\n",
    "    \"3\": \"Xuất danh sách sinh viên có học lực giỏi\",\n",
    "    \"4\": \"Sắp xếp danh sách sinh viên theo điểm\",\n",
    "    \"q\": \"Kết thúc\"\n",
    "}\n",
    "\n",
    "while True:\n",
    "    print(\"\\n===== MENU QUẢN LÝ SINH VIÊN =====\")\n",
    "    for k, v in menu.items():\n",
    "        print(f\"{k}. {v}\")\n",
    "\n",
    "    lua_chon = input(\"Nhập lựa chọn: \")\n",
    "\n",
    "    match lua_chon:\n",
    "        case \"1\":\n",
    "            ql.nhap_sinh_vien()\n",
    "        case \"2\":\n",
    "            ql.xuat_ds()\n",
    "        case \"3\":\n",
    "            ql.xuat_sv_gioi()\n",
    "        case \"4\":\n",
    "            ql.sap_xep_theo_diem()\n",
    "        case \"q\":\n",
    "            print(\" Kết thúc chương trình.\")\n",
    "            break\n",
    "        case _:\n",
    "            print(\" Lựa chọn không hợp lệ, vui lòng nhập lại.\")\n",
    "            print([sv.TenSinhVien for sv in ql.danh_sach])\n"
   ]
  },
  {
   "cell_type": "markdown",
   "id": "e2b41d4a",
   "metadata": {},
   "source": [
    "## Lab 6 - Bài 5: bài tập làm thêm"
   ]
  },
  {
   "cell_type": "code",
   "execution_count": null,
   "id": "0e0172f7",
   "metadata": {},
   "outputs": [],
   "source": [
    "# code lab 6  bài làm thêm ở đây "
   ]
  }
 ],
 "metadata": {
  "kernelspec": {
   "display_name": "Python 3",
   "language": "python",
   "name": "python3"
  },
  "language_info": {
   "codemirror_mode": {
    "name": "ipython",
    "version": 3
   },
   "file_extension": ".py",
   "mimetype": "text/x-python",
   "name": "python",
   "nbconvert_exporter": "python",
   "pygments_lexer": "ipython3",
   "version": "3.14.0"
  }
 },
 "nbformat": 4,
 "nbformat_minor": 5
}
