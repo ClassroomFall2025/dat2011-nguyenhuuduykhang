{
 "cells": [
  {
   "cell_type": "markdown",
   "id": "fdeff819",
   "metadata": {},
   "source": [
    "# Sinh Viên thực hiện Lab 3 ở Đây"
   ]
  },
  {
   "cell_type": "markdown",
   "id": "acc5d7dc",
   "metadata": {},
   "source": [
    "## Lab 3 - Bài 1"
   ]
  },
  {
   "cell_type": "code",
   "execution_count": 19,
   "id": "001e0507",
   "metadata": {},
   "outputs": [
    {
     "ename": "KeyboardInterrupt",
     "evalue": "Interrupted by user",
     "output_type": "error",
     "traceback": [
      "\u001b[31m---------------------------------------------------------------------------\u001b[39m",
      "\u001b[31mKeyboardInterrupt\u001b[39m                         Traceback (most recent call last)",
      "\u001b[36mCell\u001b[39m\u001b[36m \u001b[39m\u001b[32mIn[19]\u001b[39m\u001b[32m, line 8\u001b[39m\n\u001b[32m      6\u001b[39m dem = \u001b[32m0\u001b[39m\n\u001b[32m      7\u001b[39m \u001b[38;5;28;01mwhile\u001b[39;00m \u001b[38;5;28;01mTrue\u001b[39;00m:\n\u001b[32m----> \u001b[39m\u001b[32m8\u001b[39m    so = \u001b[38;5;28;43minput\u001b[39;49m\u001b[43m(\u001b[49m\u001b[33;43m\"\u001b[39;49m\u001b[33;43mnhâp số: \u001b[39;49m\u001b[33;43m\"\u001b[39;49m\u001b[43m)\u001b[49m\n\u001b[32m      9\u001b[39m    \u001b[38;5;28;01mif\u001b[39;00m so == \u001b[33m\"\u001b[39m\u001b[33mq\u001b[39m\u001b[33m\"\u001b[39m:\n\u001b[32m     10\u001b[39m       \u001b[38;5;28mprint\u001b[39m(\u001b[33m\"\u001b[39m\u001b[33mkết thúc nhập số\u001b[39m\u001b[33m\"\u001b[39m)\n",
      "\u001b[36mFile \u001b[39m\u001b[32m~\\AppData\\Roaming\\Python\\Python313\\site-packages\\ipykernel\\kernelbase.py:1275\u001b[39m, in \u001b[36mKernel.raw_input\u001b[39m\u001b[34m(self, prompt)\u001b[39m\n\u001b[32m   1273\u001b[39m     msg = \u001b[33m\"\u001b[39m\u001b[33mraw_input was called, but this frontend does not support input requests.\u001b[39m\u001b[33m\"\u001b[39m\n\u001b[32m   1274\u001b[39m     \u001b[38;5;28;01mraise\u001b[39;00m StdinNotImplementedError(msg)\n\u001b[32m-> \u001b[39m\u001b[32m1275\u001b[39m \u001b[38;5;28;01mreturn\u001b[39;00m \u001b[38;5;28;43mself\u001b[39;49m\u001b[43m.\u001b[49m\u001b[43m_input_request\u001b[49m\u001b[43m(\u001b[49m\n\u001b[32m   1276\u001b[39m \u001b[43m    \u001b[49m\u001b[38;5;28;43mstr\u001b[39;49m\u001b[43m(\u001b[49m\u001b[43mprompt\u001b[49m\u001b[43m)\u001b[49m\u001b[43m,\u001b[49m\n\u001b[32m   1277\u001b[39m \u001b[43m    \u001b[49m\u001b[38;5;28;43mself\u001b[39;49m\u001b[43m.\u001b[49m\u001b[43m_parent_ident\u001b[49m\u001b[43m[\u001b[49m\u001b[33;43m\"\u001b[39;49m\u001b[33;43mshell\u001b[39;49m\u001b[33;43m\"\u001b[39;49m\u001b[43m]\u001b[49m\u001b[43m,\u001b[49m\n\u001b[32m   1278\u001b[39m \u001b[43m    \u001b[49m\u001b[38;5;28;43mself\u001b[39;49m\u001b[43m.\u001b[49m\u001b[43mget_parent\u001b[49m\u001b[43m(\u001b[49m\u001b[33;43m\"\u001b[39;49m\u001b[33;43mshell\u001b[39;49m\u001b[33;43m\"\u001b[39;49m\u001b[43m)\u001b[49m\u001b[43m,\u001b[49m\n\u001b[32m   1279\u001b[39m \u001b[43m    \u001b[49m\u001b[43mpassword\u001b[49m\u001b[43m=\u001b[49m\u001b[38;5;28;43;01mFalse\u001b[39;49;00m\u001b[43m,\u001b[49m\n\u001b[32m   1280\u001b[39m \u001b[43m\u001b[49m\u001b[43m)\u001b[49m\n",
      "\u001b[36mFile \u001b[39m\u001b[32m~\\AppData\\Roaming\\Python\\Python313\\site-packages\\ipykernel\\kernelbase.py:1320\u001b[39m, in \u001b[36mKernel._input_request\u001b[39m\u001b[34m(self, prompt, ident, parent, password)\u001b[39m\n\u001b[32m   1317\u001b[39m \u001b[38;5;28;01mexcept\u001b[39;00m \u001b[38;5;167;01mKeyboardInterrupt\u001b[39;00m:\n\u001b[32m   1318\u001b[39m     \u001b[38;5;66;03m# re-raise KeyboardInterrupt, to truncate traceback\u001b[39;00m\n\u001b[32m   1319\u001b[39m     msg = \u001b[33m\"\u001b[39m\u001b[33mInterrupted by user\u001b[39m\u001b[33m\"\u001b[39m\n\u001b[32m-> \u001b[39m\u001b[32m1320\u001b[39m     \u001b[38;5;28;01mraise\u001b[39;00m \u001b[38;5;167;01mKeyboardInterrupt\u001b[39;00m(msg) \u001b[38;5;28;01mfrom\u001b[39;00m\u001b[38;5;250m \u001b[39m\u001b[38;5;28;01mNone\u001b[39;00m\n\u001b[32m   1321\u001b[39m \u001b[38;5;28;01mexcept\u001b[39;00m \u001b[38;5;167;01mException\u001b[39;00m:\n\u001b[32m   1322\u001b[39m     \u001b[38;5;28mself\u001b[39m.log.warning(\u001b[33m\"\u001b[39m\u001b[33mInvalid Message:\u001b[39m\u001b[33m\"\u001b[39m, exc_info=\u001b[38;5;28;01mTrue\u001b[39;00m)\n",
      "\u001b[31mKeyboardInterrupt\u001b[39m: Interrupted by user"
     ]
    }
   ],
   "source": [
    "# Code lab 3 bài 1 ở đây\n",
    "#khai báo biến\n",
    "day_so = []\n",
    "day_so_3 = []\n",
    "tong = 0\n",
    "dem = 0\n",
    "while True:\n",
    "   so = input(\"nhâp số: \")\n",
    "   if so == \"q\":\n",
    "      print(\"kết thúc nhập số\")\n",
    "      break\n",
    "   else:\n",
    "      try:\n",
    "        phan_tu = int(so)\n",
    "        day_so.append(phan_tu)\n",
    "      except ValueError:\n",
    "         print(\"vui lòng nhập số hoặc 'q' để thoát\")\n",
    "print(day_so)\n",
    "#sắp xếp dãy số tăng dần\n",
    "day_so.sort()\n",
    "print(\"dãy số sau khi sắp xếp:\", day_so)\n",
    "#in ra số lớn nhất và nhỏ nhất trong dãy số\n",
    "print(\"số lớn nhất trong dãy số là:\", day_so[-1])\n",
    "print(\"so nhỏ nhất trong dãy số là:\", day_so[0])   \n",
    "#sắp xếp dãy số giảm dần\n",
    "day_so.sort(reverse=True)\n",
    "print(\"dãy số sau khi sắp xếp giảm dần:\", day_so)\n",
    "#in ra số lớn nhất và nhỏ nhất trong dãy số\n",
    "print(\"số lớn nhất trong dãy số là:\", day_so[0])\n",
    "print(\"so nhỏ nhất trong dãy số là:\", day_so[-1])\n",
    "# duyệt danh sách và tính tổng các số chia hết cho 3\n",
    "for so in day_so:\n",
    "    if so % 3 == 0:\n",
    "        day_so_3.append(so)\n",
    "        tong = tong + so\n",
    "        dem = tong + 1\n",
    "        day_so_3.append(so)\n",
    "print(\"các số chia hết cho 3 là:\",tong)\n",
    "print(\"có tất cả\", dem, \"số chia hết cho 3\")\n",
    "if dem != 0:\n",
    "    print(\" các số chia hết cho 3 là:\", tong/dem)\n",
    "else:\n",
    "   print(\"không thể chia cho 3\")\n",
    "print(\"tổng các số chia hết cho 3 là:\", day_so_3)\n",
    "\n",
    "    \n",
    "\n",
    "   "
   ]
  },
  {
   "cell_type": "markdown",
   "id": "c0835310",
   "metadata": {},
   "source": [
    "## Lab 3 - Bài 2"
   ]
  },
  {
   "cell_type": "markdown",
   "id": "b0e82c13",
   "metadata": {},
   "source": []
  },
  {
   "cell_type": "code",
   "execution_count": 4,
   "id": "fa9cb39f",
   "metadata": {},
   "outputs": [
    {
     "name": "stdout",
     "output_type": "stream",
     "text": [
      "Thông tin sinh viên đã được lưu thành công.\n",
      "[{'khang': {'xep_loai': 'Xuất sắc', 'ho_va_ten': 'khang', 'diem': 9.0}}]\n",
      "Thoát chương trình\n"
     ]
    }
   ],
   "source": [
    "# Code lab 3 bài 2 ở đây\n",
    "while True:\n",
    "    ds_sinh_vien = []\n",
    "    sinh_vien = {}\n",
    "    Ho_ten = input(\"Nhập họ tên sinh viên: \")\n",
    "    if Ho_ten == 'q':\n",
    "        print(\"Thoát chương trình\")\n",
    "        break\n",
    "    else:\n",
    "        diem = float(input(\"Nhập điểm sinh viên: \"))\n",
    "        \n",
    "        if diem <5:\n",
    "                xep_loai = 'Yếu'\n",
    "        elif 5 <= diem < 7:\n",
    "                xep_loai = 'Trung bình'\n",
    "        elif 7 <= diem < 8:\n",
    "                xep_loai = 'Khá'\n",
    "        elif 8 <= diem < 9:\n",
    "                xep_loai = 'Giỏi'\n",
    "        else:\n",
    "                xep_loai = 'Xuất sắc'\n",
    "        sinh_vien['xep_loai'] = xep_loai\n",
    "        sinh_vien['ho_va_ten'] = Ho_ten\n",
    "        sinh_vien['diem'] = diem\n",
    "        ds_sinh_vien.append({Ho_ten: sinh_vien})\n",
    "        print(\"Thông tin sinh viên đã được lưu thành công.\")\n",
    "        print(ds_sinh_vien)\n"
   ]
  },
  {
   "cell_type": "markdown",
   "id": "0f2483fe",
   "metadata": {},
   "source": [
    "## Lab 3 - Bài 3"
   ]
  },
  {
   "cell_type": "code",
   "execution_count": 6,
   "id": "7034990b",
   "metadata": {},
   "outputs": [
    {
     "name": "stdout",
     "output_type": "stream",
     "text": [
      "0 không phải là số nguyên tố\n"
     ]
    }
   ],
   "source": [
    "# Code lab 3  bài 3 ở đây\n",
    "\n",
    "n = int(input(\"Nhập một số nguyên: \"))\n",
    "if n < 2:\n",
    "    print(f\"{n} không phải là số nguyên tố\")\n",
    "else:\n",
    "    yes = True\n",
    "    i = 2\n",
    "    while i < n:\n",
    "        if n % i == 0:\n",
    "            yes = False\n",
    "            break\n",
    "        i += 1\n",
    "    if yes:\n",
    "        print(f\"{n} là số nguyên tố\")\n",
    "    else:\n",
    "        print(f\"{n} không phải là số nguyên tố\")"
   ]
  },
  {
   "cell_type": "markdown",
   "id": "d36ea3d3",
   "metadata": {},
   "source": [
    "## Lab 3 - Bài 4"
   ]
  },
  {
   "cell_type": "code",
   "execution_count": 5,
   "id": "4c707ec1",
   "metadata": {},
   "outputs": [
    {
     "name": "stdout",
     "output_type": "stream",
     "text": [
      "In toàn bộ bảng cửu chương từ 1 đến 10:\n",
      "1 x 1 = 1\t1 x 2 = 2\t1 x 3 = 3\t1 x 4 = 4\t1 x 5 = 5\t1 x 6 = 6\t1 x 7 = 7\t1 x 8 = 8\t1 x 9 = 9\t1 x 10 = 10\t\n",
      "2 x 1 = 2\t2 x 2 = 4\t2 x 3 = 6\t2 x 4 = 8\t2 x 5 = 10\t2 x 6 = 12\t2 x 7 = 14\t2 x 8 = 16\t2 x 9 = 18\t2 x 10 = 20\t\n",
      "3 x 1 = 3\t3 x 2 = 6\t3 x 3 = 9\t3 x 4 = 12\t3 x 5 = 15\t3 x 6 = 18\t3 x 7 = 21\t3 x 8 = 24\t3 x 9 = 27\t3 x 10 = 30\t\n",
      "4 x 1 = 4\t4 x 2 = 8\t4 x 3 = 12\t4 x 4 = 16\t4 x 5 = 20\t4 x 6 = 24\t4 x 7 = 28\t4 x 8 = 32\t4 x 9 = 36\t4 x 10 = 40\t\n",
      "5 x 1 = 5\t5 x 2 = 10\t5 x 3 = 15\t5 x 4 = 20\t5 x 5 = 25\t5 x 6 = 30\t5 x 7 = 35\t5 x 8 = 40\t5 x 9 = 45\t5 x 10 = 50\t\n",
      "6 x 1 = 6\t6 x 2 = 12\t6 x 3 = 18\t6 x 4 = 24\t6 x 5 = 30\t6 x 6 = 36\t6 x 7 = 42\t6 x 8 = 48\t6 x 9 = 54\t6 x 10 = 60\t\n",
      "7 x 1 = 7\t7 x 2 = 14\t7 x 3 = 21\t7 x 4 = 28\t7 x 5 = 35\t7 x 6 = 42\t7 x 7 = 49\t7 x 8 = 56\t7 x 9 = 63\t7 x 10 = 70\t\n",
      "8 x 1 = 8\t8 x 2 = 16\t8 x 3 = 24\t8 x 4 = 32\t8 x 5 = 40\t8 x 6 = 48\t8 x 7 = 56\t8 x 8 = 64\t8 x 9 = 72\t8 x 10 = 80\t\n",
      "9 x 1 = 9\t9 x 2 = 18\t9 x 3 = 27\t9 x 4 = 36\t9 x 5 = 45\t9 x 6 = 54\t9 x 7 = 63\t9 x 8 = 72\t9 x 9 = 81\t9 x 10 = 90\t\n",
      "10 x 1 = 10\t10 x 2 = 20\t10 x 3 = 30\t10 x 4 = 40\t10 x 5 = 50\t10 x 6 = 60\t10 x 7 = 70\t10 x 8 = 80\t10 x 9 = 90\t10 x 10 = 100\t\n"
     ]
    }
   ],
   "source": [
    "# code lab 3 bài 4 ở đây\n",
    "\n",
    "\n",
    "print(\"In toàn bộ bảng cửu chương từ 1 đến 10:\")\n",
    "for i in range(1, 11):\n",
    "    for j in range(1, 11):\n",
    "        print(f\"{i} x {j} = {i * j}\", end='\\t')\n",
    "    print()\n",
    "   \n",
    "   "
   ]
  },
  {
   "cell_type": "markdown",
   "id": "e2b41d4a",
   "metadata": {},
   "source": [
    "## Lab 3 - Bài 5: bài tập làm thêm"
   ]
  },
  {
   "cell_type": "code",
   "execution_count": 9,
   "id": "0e0172f7",
   "metadata": {},
   "outputs": [
    {
     "name": "stdout",
     "output_type": "stream",
     "text": [
      "menu:\n",
      "Luy thua: Tinh x^y\n",
      "2. Tính lũy thừa x^y\n",
      "x^y = 1e+33\n"
     ]
    }
   ],
   "source": [
    "# code lab 3  bài làm thêm ở đây \n",
    "while True:\n",
    "    print(\"menu:\")\n",
    "    lua_chon = input(\" nhap lua chon 1-9 (hoặc 'q' để thoát): \")\n",
    "    match lua_chon:\n",
    "        case \"1\":\n",
    "            print(\"Luy thua: Tinh x^y\")\n",
    "            a = float(input(\"Nhập số x: \"))\n",
    "            b = float(input(\"Nhập số y: \"))\n",
    "            print(\"2. Tính lũy thừa x^y\")\n",
    "            luy_thua = a ** b\n",
    "            print(\"x^y =\", luy_thua)\n",
    "            break\n",
    "        case \"2\":\n",
    "            print(\"Can bac hai: Tinh √x\")\n",
    "        case \"3\":\n",
    "            print(\"Ham luong giac: Sin, cos, tan\")\n",
    "        case \"4\":\n",
    "            print(\"Logarit: Log co so 10, ln, log co so tuy chon\")\n",
    "        case \"5\":\n",
    "            print(\"Giai phuong trinh bac nhat\")\n",
    "        case \"6\":\n",
    "            print(\"bGiai phuong trinh bac 2\")\n",
    "        case \"7\":\n",
    "            print(\"Lich su: Luu va xem lai cac phep tinh da thuc hien\")\n",
    "        case \"8\":\n",
    "            print(\"Thoi gian: Hien thi thoi gian hien tai\")\n",
    "        case \"9\":\n",
    "            print(\"Giao dien than thien: Menu de su dung bang tieng Viet\")\n",
    "        case \"q\":\n",
    "            print(\"Ban da chon thoat chuong trinh\")\n",
    "            break"
   ]
  }
 ],
 "metadata": {
  "kernelspec": {
   "display_name": "Python 3",
   "language": "python",
   "name": "python3"
  },
  "language_info": {
   "codemirror_mode": {
    "name": "ipython",
    "version": 3
   },
   "file_extension": ".py",
   "mimetype": "text/x-python",
   "name": "python",
   "nbconvert_exporter": "python",
   "pygments_lexer": "ipython3",
   "version": "3.13.7"
  }
 },
 "nbformat": 4,
 "nbformat_minor": 5
}
