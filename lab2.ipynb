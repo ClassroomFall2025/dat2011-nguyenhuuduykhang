{
 "cells": [
  {
   "cell_type": "markdown",
   "id": "fdeff819",
   "metadata": {},
   "source": [
    "# Sinh Viên thực hiện Lab 2 ở Đây"
   ]
  },
  {
   "cell_type": "markdown",
   "id": "acc5d7dc",
   "metadata": {},
   "source": [
    "## Lab 2 - Bài 1"
   ]
  },
  {
   "cell_type": "code",
   "execution_count": null,
   "id": "001e0507",
   "metadata": {},
   "outputs": [
    {
     "name": "stdout",
     "output_type": "stream",
     "text": [
      " \n",
      "Kiếp con người mỏng manh như là gió\n",
      "Sống trên đời có được mấy lần vui\n",
      "Sao phải đau mà không thể mỉm cười\n",
      "Gắng buông nỗi ngậm ngùi nơi quá khứ\n",
      "\n",
      "Nếu có thể sao ta không làm thử\n",
      "Để tâm hồn khắc hai chữ bình an\n",
      "Cho đôi chân bước thanh thản nhẹ nhàng\n",
      "Dù hướng đời có muôn ngàn đá sỏi\n",
      "\n",
      "con người có trong bài thơ không?  True\n",
      "từ tìm kiếm:  con người\n",
      "từ in hoa:  CON NGƯỜI\n"
     ]
    }
   ],
   "source": [
    "# Code lab 2 bài 1 ở đây\n",
    "BaiTho=''' \n",
    "Kiếp con người mỏng manh như là gió\n",
    "Sống trên đời có được mấy lần vui\n",
    "Sao phải đau mà không thể mỉm cười\n",
    "Gắng buông nỗi ngậm ngùi nơi quá khứ\n",
    "\n",
    "Nếu có thể sao ta không làm thử\n",
    "Để tâm hồn khắc hai chữ bình an\n",
    "Cho đôi chân bước thanh thản nhẹ nhàng\n",
    "Dù hướng đời có muôn ngàn đá sỏi\n",
    "'''\n",
    "print(BaiTho)\n",
    "check= \"con người\" in BaiTho\n",
    "print(\"con người có trong bài thơ không? \", check)\n",
    "index= BaiTho.find(\"con người\") # tìm vị trí của từ \"con người\"\n",
    "index2= index + len(\"con người\") # tìm vị trí kết thúc của từ \"con người\"\n",
    "tutimkiem= BaiTho[index:index2]\n",
    "print(\"từ tìm kiếm: \", tutimkiem)\n",
    "upper= tutimkiem.upper() # chuyển thành chữ in hoa\n",
    "print(\"từ in hoa: \", upper)\n",
    "\n",
    "text = \"BaiTho\"\n",
    "index= BaiTho.find(\"con người\") # tìm vị trí của từ \"con người\"\n",
    "len_connguoi= len(\"con người\") # độ dài của từ \"con người\"\n",
    "index2= index + len_connguoi # tìm vị trí kết thúc của từ \"con người\"\n",
    "tutimkiem= BaiTho[index:index2]\n",
    "print(\"từ tìm kiếm: \", tutimkiem)\n",
    "\n",
    "text = \"tôi thích bạn cả\"\n",
    "text2 =\"bạn cả không thích tôi\"\n",
    "text3 = text +\"\\n\"+ text2\n",
    "print(text3)"
   ]
  },
  {
   "cell_type": "markdown",
   "id": "c0835310",
   "metadata": {},
   "source": [
    "## Lab 2 - Bài 2"
   ]
  },
  {
   "cell_type": "code",
   "execution_count": 3,
   "id": "fa9cb39f",
   "metadata": {},
   "outputs": [
    {
     "name": "stdout",
     "output_type": "stream",
     "text": [
      " \n",
      "Kiếp con người mỏng manh như là gió\n",
      "Sống trên đời có được mấy lần vui\n",
      "Sao phải đau mà không thể mỉm cười\n",
      "Gắng buông nỗi ngậm ngùi nơi quá khứ\n",
      "\n",
      "Nếu có thể sao ta không làm thử\n",
      "Để tâm hồn khắc hai chữ hạnh phúc\n",
      "Cho đôi chân bước thanh thản nhẹ nhàng\n",
      "Dù hướng đời có muôn ngàn đá sỏi\n",
      "\n"
     ]
    }
   ],
   "source": [
    "# Code lab 2 bài 3 ở đây\n",
    "BaiTho=''' \n",
    "Kiếp con người mỏng manh như là gió\n",
    "Sống trên đời có được mấy lần vui\n",
    "Sao phải đau mà không thể mỉm cười\n",
    "Gắng buông nỗi ngậm ngùi nơi quá khứ\n",
    "\n",
    "Nếu có thể sao ta không làm thử\n",
    "Để tâm hồn khắc hai chữ bình an\n",
    "Cho đôi chân bước thanh thản nhẹ nhàng\n",
    "Dù hướng đời có muôn ngàn đá sỏi\n",
    "'''\n",
    "BAITHO= BaiTho.replace(\"bình an\", \"hạnh phúc\")\n",
    "print(BAITHO)"
   ]
  },
  {
   "cell_type": "markdown",
   "id": "0f2483fe",
   "metadata": {},
   "source": [
    "## Lab 2 - Bài 3"
   ]
  },
  {
   "cell_type": "code",
   "execution_count": null,
   "id": "7034990b",
   "metadata": {},
   "outputs": [
    {
     "name": "stdout",
     "output_type": "stream",
     "text": [
      "phương trình vô nghiệm\n"
     ]
    }
   ],
   "source": [
    "# Code lab 2  bài 3 ở đây\n",
    "import math\n",
    "a = float(input(\"nhập hệ số a: \"))\n",
    "b = float(input(\"nhập hệ số b: \"))\n",
    "c = float(input(\"nhập hệ số c: \"))\n",
    "delta = b**2 - 4*a*c\n",
    "if delta > 0:\n",
    "    canbachai = math.sqrt(delta)\n",
    "    print(\"phương trình có hai nghiệm phân biệt:\",canbachai)\n",
    "else:\n",
    "    print(\"phương trình vô nghiệm\")\n",
    "\n",
    "\n",
    "a= float(input(\"nhập hệ số a: \"))\n",
    "b= float(input(\"nhập hệ số b: \"))\n",
    "if a==0:\n",
    "    if b==0:\n",
    "        print(\"phương trình vô số nghiệm\")\n",
    "    else:\n",
    "        print(\"phương trình vô nghiệm\")\n",
    "else:\n",
    "  x= -b/a\n",
    "  print(\"phương trình có  nghiệm: \", x)\n"
   ]
  },
  {
   "cell_type": "markdown",
   "id": "d36ea3d3",
   "metadata": {},
   "source": [
    "## Lab 2 - Bài 4"
   ]
  },
  {
   "cell_type": "code",
   "execution_count": null,
   "id": "4c707ec1",
   "metadata": {},
   "outputs": [
    {
     "name": "stdout",
     "output_type": "stream",
     "text": [
      "kết quả:  100.0 + 100.0 = 200.0\n",
      "học sinh ngu(ngu như bò)\n"
     ]
    }
   ],
   "source": [
    "# code lab 2 bài 4 ở đây\n",
    "number = float(input(\"nhập số thực: \"))\n",
    "number2 = float(input(\"nhập số thực thứ 2: \"))\n",
    "operation = input(\"nhập phép toán (+, -, *, /): \")\n",
    "if operation == \"+\":\n",
    "    result = number + number2\n",
    "    print(\"kết quả: \", (number), \"+\", (number2), \"=\", result)\n",
    "elif operation == \"-\":\n",
    "    result = number - number2\n",
    "    print(\"kết quả: \", (number), \"-\", (number2), \"=\", result)\n",
    "elif operation == \"*\":\n",
    "    result = number * number2\n",
    "    print(\"kết quả: \", (number), \"*\", (number2), \"=\", result)\n",
    "elif operation == \"/\":\n",
    "    if number2 != 0:\n",
    "        result = number / number2\n",
    "        print(\"kết quả: \", (number), \"/\", (number2), \"=\", result)\n",
    "    else:\n",
    "        print(\"lỗi: không thể chia cho 0\")\n",
    "\n",
    "\n",
    "number = float(input(\"nhập số thực: \"))\n",
    "number2 = float(input(\"nhập số thực thứ 2: \"))\n",
    "operation = input(\"nhập phép toán (+, -, *, /): \")\n",
    "if operation == \"+\":\n",
    "    result = number + number2\n",
    "    print(\"kết quả: \", (number), \"+\", (number2), \"=\", result)\n",
    "if operation == \"-\":\n",
    "    result = number - number2\n",
    "    print(\"kết quả: \", (number), \"-\", (number2), \"=\", result)\n",
    "if operation == \"*\":\n",
    "    result = number * number2\n",
    "    print(\"kết quả: \", (number), \"*\", (number2), \"=\", result)\n",
    "if operation == \"/\":\n",
    "    if number2 != 0:\n",
    "        result = number / number2\n",
    "        print(\"kết quả: \", (number), \"/\", (number2), \"=\", result)\n",
    "    else:\n",
    "        print(\"lỗi: không thể chia cho 0\")\n",
    "\n",
    "\n",
    "\n",
    "\n",
    "    "
   ]
  },
  {
   "cell_type": "markdown",
   "id": "e2b41d4a",
   "metadata": {},
   "source": [
    "## Lab 2 - Bài 5: bài tập làm thêm"
   ]
  },
  {
   "cell_type": "code",
   "execution_count": null,
   "id": "0e0172f7",
   "metadata": {},
   "outputs": [
    {
     "name": "stdout",
     "output_type": "stream",
     "text": [
      "số lớn hơn là so2:  10000.0\n"
     ]
    }
   ],
   "source": [
    "# code lab 2  bài làm thêm ở đây \n"
   ]
  }
 ],
 "metadata": {
  "kernelspec": {
   "display_name": "Python 3",
   "language": "python",
   "name": "python3"
  },
  "language_info": {
   "codemirror_mode": {
    "name": "ipython",
    "version": 3
   },
   "file_extension": ".py",
   "mimetype": "text/x-python",
   "name": "python",
   "nbconvert_exporter": "python",
   "pygments_lexer": "ipython3",
   "version": "3.14.0"
  }
 },
 "nbformat": 4,
 "nbformat_minor": 5
}
